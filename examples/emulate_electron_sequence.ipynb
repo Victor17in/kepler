{
 "cells": [
  {
   "cell_type": "code",
   "execution_count": 98,
   "id": "59967f39-befe-42c6-b8aa-c81bcc13734b",
   "metadata": {},
   "outputs": [
    {
     "name": "stdout",
     "output_type": "stream",
     "text": [
      "The autoreload extension is already loaded. To reload it, use:\n",
      "  %reload_ext autoreload\n"
     ]
    }
   ],
   "source": [
    "from kepler.pandas import RingerDecorator\n",
    "from kepler.pandas import ElectronSequence as Chain\n",
    "from kepler.pandas import load\n",
    "from kepler.pandas import drop_ring_columns\n",
    "import numpy as np\n",
    "import pandas as pd\n",
    "import collections\n",
    "import os\n",
    "import matplotlib\n",
    "import matplotlib.pyplot as plt\n",
    "from pprint import pprint\n",
    "from copy import deepcopy\n",
    "%config InlineBackend.figure_format = 'retina'\n",
    "%load_ext autoreload\n",
    "%autoreload 2"
   ]
  },
  {
   "cell_type": "code",
   "execution_count": 99,
   "id": "9906fa52-812f-4db7-9f00-e5c9a8b317ff",
   "metadata": {},
   "outputs": [],
   "source": [
    "dpath = '/home/jodafons/git_repos/ringer_analysis/2021/collector/data17/data17_13TeV.AllPeriods.sgn.probes_lhmedium_EGAM1.bkg.VProbes_EGAM7.GRL_v97.25bins'\n",
    "dpath+= '/data17_13TeV.AllPeriods.sgn.probes_lhmedium_EGAM1.bkg.VProbes_EGAM7.GRL_v97.25bins_et2_eta0.npz'\n",
    "\n",
    "tpath = '/home/jodafons/git_repos/tunings/electron/Zee/TrigL2_20180125_v8'\n",
    "tpath+= '/ElectronRingerTightTriggerConfig.conf'"
   ]
  },
  {
   "cell_type": "code",
   "execution_count": 100,
   "id": "986830bb-415e-4d2c-a1b7-192bacd7211a",
   "metadata": {},
   "outputs": [
    {
     "name": "stdout",
     "output_type": "stream",
     "text": [
      "2021-09-02 21:04:03,628 | Py.RingerDecorator                      INFO Reading... /home/jodafons/git_repos/tunings/electron/Zee/TrigL2_20180125_v8/ElectronRingerTightTriggerConfig.conf\n"
     ]
    }
   ],
   "source": [
    "def my_generator( df ):\n",
    "    col_names= ['trig_L2_cl_ring_%d'%i for i in range(100)]\n",
    "    rings = df[col_names].values.astype(np.float32)\n",
    "    def norm1( data ):\n",
    "        norms = np.abs( data.sum(axis=1) )\n",
    "        norms[norms==0] = 1\n",
    "        return data/norms[:,None]\n",
    "    rings = norm1(rings)\n",
    "    return [rings]\n",
    "\n",
    "v8_tight = RingerDecorator(tpath, my_generator)"
   ]
  },
  {
   "cell_type": "code",
   "execution_count": 101,
   "id": "9ef17eb5-de24-47ca-91db-f3c4b058ed93",
   "metadata": {},
   "outputs": [],
   "source": [
    "df = load( dpath )"
   ]
  },
  {
   "cell_type": "code",
   "execution_count": 102,
   "id": "548968ab-f88a-4b53-9a9a-17daca15592a",
   "metadata": {},
   "outputs": [
    {
     "name": "stdout",
     "output_type": "stream",
     "text": [
      "5197/5197 [==============================] - 1s 210us/step\n",
      "2021-09-02 21:04:25,149 | Py.RingerDecorator                      INFO Propagate for bin (2, 0)\n",
      "2021-09-02 21:04:27,707 | Py.RingerDecorator                      INFO Decide for bin (2, 0)\n"
     ]
    }
   ],
   "source": [
    "v8_tight.apply( df, 'ringer_v8_tight' )"
   ]
  },
  {
   "cell_type": "code",
   "execution_count": 103,
   "id": "d248569d-d46a-413c-88b0-c7732270bdfc",
   "metadata": {},
   "outputs": [],
   "source": [
    "drop_ring_columns(df)"
   ]
  },
  {
   "cell_type": "code",
   "execution_count": 104,
   "id": "7e051da6-eba8-4a67-aa22-a24cbd4338c9",
   "metadata": {},
   "outputs": [
    {
     "name": "stdout",
     "output_type": "stream",
     "text": [
      "OrderedDict([('L1Seed', 'L1_EM22VHI'),\n",
      "             ('L2Calo', (25000.0, 'ringer_v8_tight')),\n",
      "             ('L2', 'trig_L2_el_cut_pt20to50'),\n",
      "             ('EFCalo', 28000.0),\n",
      "             ('HLT', (28000.0, 'trig_EF_el_lhtight'))])\n"
     ]
    }
   ],
   "source": [
    "# create my chain\n",
    "my_chain = Chain( \"HLT_e28_lhtight_nod0_ivarloose\", L1Seed = 'L1_EM22VHI', l2calo_column = 'ringer_v8_tight' )"
   ]
  },
  {
   "cell_type": "code",
   "execution_count": 105,
   "id": "9cc22564-c69f-4a31-88e7-e0a78e67bc88",
   "metadata": {},
   "outputs": [
    {
     "name": "stdout",
     "output_type": "stream",
     "text": [
      "2021-09-02 21:04:58,485 | Py.ElectronSequence                     INFO Number of events   : 166276\n",
      "2021-09-02 21:04:58,626 | Py.ElectronSequence                     INFO Approved by L1     : 141434\n",
      "2021-09-02 21:04:58,822 | Py.ElectronSequence                     INFO Approved by L2Calo : 136252\n",
      "2021-09-02 21:04:59,005 | Py.ElectronSequence                     INFO Approved by L2     : 135836\n",
      "2021-09-02 21:05:00,125 | Py.ElectronSequence                     INFO Approved by EFCalo : 133960\n",
      "2021-09-02 21:05:01,250 | Py.ElectronSequence                     INFO Approved by HLT    : 133957\n"
     ]
    }
   ],
   "source": [
    "my_chain.apply( df, \"e28_lhtight_nod0_ivarloose\" )"
   ]
  },
  {
   "cell_type": "code",
   "execution_count": 106,
   "id": "5af65359-4e39-491a-b18e-df87003570a6",
   "metadata": {},
   "outputs": [
    {
     "data": {
      "text/html": [
       "<div>\n",
       "<style scoped>\n",
       "    .dataframe tbody tr th:only-of-type {\n",
       "        vertical-align: middle;\n",
       "    }\n",
       "\n",
       "    .dataframe tbody tr th {\n",
       "        vertical-align: top;\n",
       "    }\n",
       "\n",
       "    .dataframe thead th {\n",
       "        text-align: right;\n",
       "    }\n",
       "</style>\n",
       "<table border=\"1\" class=\"dataframe\">\n",
       "  <thead>\n",
       "    <tr style=\"text-align: right;\">\n",
       "      <th></th>\n",
       "      <th>RunNumber</th>\n",
       "      <th>avgmu</th>\n",
       "      <th>trig_L2_cl_et</th>\n",
       "      <th>trig_L2_cl_eta</th>\n",
       "      <th>trig_L2_cl_phi</th>\n",
       "      <th>trig_L2_cl_reta</th>\n",
       "      <th>trig_L2_cl_ehad1</th>\n",
       "      <th>trig_L2_cl_eratio</th>\n",
       "      <th>trig_L2_cl_f1</th>\n",
       "      <th>trig_L2_cl_f3</th>\n",
       "      <th>...</th>\n",
       "      <th>trig_L2_el_cut_pt20to50</th>\n",
       "      <th>trig_L2_el_cut_pt50toInf</th>\n",
       "      <th>target</th>\n",
       "      <th>ringer_v8_tight_output</th>\n",
       "      <th>ringer_v8_tight</th>\n",
       "      <th>L1Calo_e28_lhtight_nod0_ivarloose</th>\n",
       "      <th>L2Calo_e28_lhtight_nod0_ivarloose</th>\n",
       "      <th>L2_e28_lhtight_nod0_ivarloose</th>\n",
       "      <th>EFCalo_e28_lhtight_nod0_ivarloose</th>\n",
       "      <th>HLT_e28_lhtight_nod0_ivarloose</th>\n",
       "    </tr>\n",
       "  </thead>\n",
       "  <tbody>\n",
       "    <tr>\n",
       "      <th>0</th>\n",
       "      <td>338712</td>\n",
       "      <td>56.889999</td>\n",
       "      <td>35767.800781</td>\n",
       "      <td>-0.323447</td>\n",
       "      <td>-2.283089</td>\n",
       "      <td>0.936078</td>\n",
       "      <td>-117.0</td>\n",
       "      <td>0.981306</td>\n",
       "      <td>0.340038</td>\n",
       "      <td>0.003635</td>\n",
       "      <td>...</td>\n",
       "      <td>True</td>\n",
       "      <td>True</td>\n",
       "      <td>1</td>\n",
       "      <td>3.525365</td>\n",
       "      <td>True</td>\n",
       "      <td>True</td>\n",
       "      <td>True</td>\n",
       "      <td>True</td>\n",
       "      <td>True</td>\n",
       "      <td>True</td>\n",
       "    </tr>\n",
       "    <tr>\n",
       "      <th>1</th>\n",
       "      <td>338712</td>\n",
       "      <td>56.889999</td>\n",
       "      <td>39196.789062</td>\n",
       "      <td>-0.380736</td>\n",
       "      <td>-1.585186</td>\n",
       "      <td>0.948554</td>\n",
       "      <td>-64.0</td>\n",
       "      <td>0.982058</td>\n",
       "      <td>0.407585</td>\n",
       "      <td>0.002603</td>\n",
       "      <td>...</td>\n",
       "      <td>True</td>\n",
       "      <td>True</td>\n",
       "      <td>1</td>\n",
       "      <td>3.313821</td>\n",
       "      <td>True</td>\n",
       "      <td>True</td>\n",
       "      <td>True</td>\n",
       "      <td>True</td>\n",
       "      <td>True</td>\n",
       "      <td>True</td>\n",
       "    </tr>\n",
       "    <tr>\n",
       "      <th>2</th>\n",
       "      <td>338712</td>\n",
       "      <td>56.889999</td>\n",
       "      <td>38485.703125</td>\n",
       "      <td>-0.374817</td>\n",
       "      <td>2.154873</td>\n",
       "      <td>0.972927</td>\n",
       "      <td>417.0</td>\n",
       "      <td>0.95235</td>\n",
       "      <td>0.215726</td>\n",
       "      <td>0.007497</td>\n",
       "      <td>...</td>\n",
       "      <td>True</td>\n",
       "      <td>True</td>\n",
       "      <td>1</td>\n",
       "      <td>3.942681</td>\n",
       "      <td>True</td>\n",
       "      <td>True</td>\n",
       "      <td>True</td>\n",
       "      <td>True</td>\n",
       "      <td>True</td>\n",
       "      <td>True</td>\n",
       "    </tr>\n",
       "    <tr>\n",
       "      <th>3</th>\n",
       "      <td>338712</td>\n",
       "      <td>56.889999</td>\n",
       "      <td>39877.242188</td>\n",
       "      <td>-0.457957</td>\n",
       "      <td>-0.352831</td>\n",
       "      <td>0.962519</td>\n",
       "      <td>728.112122</td>\n",
       "      <td>0.972717</td>\n",
       "      <td>0.320087</td>\n",
       "      <td>0.004173</td>\n",
       "      <td>...</td>\n",
       "      <td>True</td>\n",
       "      <td>True</td>\n",
       "      <td>1</td>\n",
       "      <td>3.362636</td>\n",
       "      <td>True</td>\n",
       "      <td>True</td>\n",
       "      <td>True</td>\n",
       "      <td>True</td>\n",
       "      <td>True</td>\n",
       "      <td>True</td>\n",
       "    </tr>\n",
       "    <tr>\n",
       "      <th>4</th>\n",
       "      <td>338712</td>\n",
       "      <td>56.889999</td>\n",
       "      <td>39259.914062</td>\n",
       "      <td>0.49333</td>\n",
       "      <td>0.19662</td>\n",
       "      <td>0.969703</td>\n",
       "      <td>369.0</td>\n",
       "      <td>0.817617</td>\n",
       "      <td>0.120121</td>\n",
       "      <td>0.010259</td>\n",
       "      <td>...</td>\n",
       "      <td>True</td>\n",
       "      <td>True</td>\n",
       "      <td>1</td>\n",
       "      <td>1.115225</td>\n",
       "      <td>True</td>\n",
       "      <td>True</td>\n",
       "      <td>True</td>\n",
       "      <td>True</td>\n",
       "      <td>True</td>\n",
       "      <td>True</td>\n",
       "    </tr>\n",
       "  </tbody>\n",
       "</table>\n",
       "<p>5 rows × 89 columns</p>\n",
       "</div>"
      ],
      "text/plain": [
       "  RunNumber      avgmu trig_L2_cl_et trig_L2_cl_eta trig_L2_cl_phi  \\\n",
       "0    338712  56.889999  35767.800781      -0.323447      -2.283089   \n",
       "1    338712  56.889999  39196.789062      -0.380736      -1.585186   \n",
       "2    338712  56.889999  38485.703125      -0.374817       2.154873   \n",
       "3    338712  56.889999  39877.242188      -0.457957      -0.352831   \n",
       "4    338712  56.889999  39259.914062        0.49333        0.19662   \n",
       "\n",
       "  trig_L2_cl_reta trig_L2_cl_ehad1 trig_L2_cl_eratio trig_L2_cl_f1  \\\n",
       "0        0.936078           -117.0          0.981306      0.340038   \n",
       "1        0.948554            -64.0          0.982058      0.407585   \n",
       "2        0.972927            417.0           0.95235      0.215726   \n",
       "3        0.962519       728.112122          0.972717      0.320087   \n",
       "4        0.969703            369.0          0.817617      0.120121   \n",
       "\n",
       "  trig_L2_cl_f3  ... trig_L2_el_cut_pt20to50 trig_L2_el_cut_pt50toInf target  \\\n",
       "0      0.003635  ...                    True                     True      1   \n",
       "1      0.002603  ...                    True                     True      1   \n",
       "2      0.007497  ...                    True                     True      1   \n",
       "3      0.004173  ...                    True                     True      1   \n",
       "4      0.010259  ...                    True                     True      1   \n",
       "\n",
       "  ringer_v8_tight_output ringer_v8_tight L1Calo_e28_lhtight_nod0_ivarloose  \\\n",
       "0               3.525365            True                              True   \n",
       "1               3.313821            True                              True   \n",
       "2               3.942681            True                              True   \n",
       "3               3.362636            True                              True   \n",
       "4               1.115225            True                              True   \n",
       "\n",
       "  L2Calo_e28_lhtight_nod0_ivarloose L2_e28_lhtight_nod0_ivarloose  \\\n",
       "0                              True                          True   \n",
       "1                              True                          True   \n",
       "2                              True                          True   \n",
       "3                              True                          True   \n",
       "4                              True                          True   \n",
       "\n",
       "  EFCalo_e28_lhtight_nod0_ivarloose HLT_e28_lhtight_nod0_ivarloose  \n",
       "0                              True                           True  \n",
       "1                              True                           True  \n",
       "2                              True                           True  \n",
       "3                              True                           True  \n",
       "4                              True                           True  \n",
       "\n",
       "[5 rows x 89 columns]"
      ]
     },
     "execution_count": 106,
     "metadata": {},
     "output_type": "execute_result"
    }
   ],
   "source": [
    "df.head()"
   ]
  },
  {
   "cell_type": "code",
   "execution_count": null,
   "id": "110fdf63-6a80-4f25-9ef8-68ec475f9da3",
   "metadata": {},
   "outputs": [],
   "source": []
  }
 ],
 "metadata": {
  "kernelspec": {
   "display_name": "Python 3 (ipykernel)",
   "language": "python",
   "name": "python3"
  },
  "language_info": {
   "codemirror_mode": {
    "name": "ipython",
    "version": 3
   },
   "file_extension": ".py",
   "mimetype": "text/x-python",
   "name": "python",
   "nbconvert_exporter": "python",
   "pygments_lexer": "ipython3",
   "version": "3.8.10"
  }
 },
 "nbformat": 4,
 "nbformat_minor": 5
}
